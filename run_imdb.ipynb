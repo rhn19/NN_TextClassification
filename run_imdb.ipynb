{
  "nbformat": 4,
  "nbformat_minor": 0,
  "metadata": {
    "colab": {
      "name": "run_imdb",
      "provenance": [],
      "collapsed_sections": [],
      "authorship_tag": "ABX9TyP61D6iq7jq4ypXhuVjsHER",
      "include_colab_link": true
    },
    "kernelspec": {
      "name": "python3",
      "display_name": "Python 3"
    },
    "accelerator": "GPU"
  },
  "cells": [
    {
      "cell_type": "markdown",
      "metadata": {
        "id": "view-in-github",
        "colab_type": "text"
      },
      "source": [
        "<a href=\"https://colab.research.google.com/github/rhn19/NN_TextClassification/blob/master/run_imdb.ipynb\" target=\"_parent\"><img src=\"https://colab.research.google.com/assets/colab-badge.svg\" alt=\"Open In Colab\"/></a>"
      ]
    },
    {
      "cell_type": "code",
      "metadata": {
        "id": "eKw6NkWIiDHY",
        "colab_type": "code",
        "outputId": "144bbc7c-92a0-44de-e57f-5d18c3a3fe07",
        "colab": {
          "base_uri": "https://localhost:8080/",
          "height": 207
        }
      },
      "source": [
        "!wget \"http://ai.stanford.edu/~amaas/data/sentiment/aclImdb_v1.tar.gz\""
      ],
      "execution_count": 1,
      "outputs": [
        {
          "output_type": "stream",
          "text": [
            "--2020-01-15 16:55:17--  http://ai.stanford.edu/~amaas/data/sentiment/aclImdb_v1.tar.gz\n",
            "Resolving ai.stanford.edu (ai.stanford.edu)... 171.64.68.10\n",
            "Connecting to ai.stanford.edu (ai.stanford.edu)|171.64.68.10|:80... connected.\n",
            "HTTP request sent, awaiting response... 200 OK\n",
            "Length: 84125825 (80M) [application/x-gzip]\n",
            "Saving to: ‘aclImdb_v1.tar.gz’\n",
            "\n",
            "aclImdb_v1.tar.gz   100%[===================>]  80.23M  19.5MB/s    in 6.8s    \n",
            "\n",
            "2020-01-15 16:55:24 (11.8 MB/s) - ‘aclImdb_v1.tar.gz’ saved [84125825/84125825]\n",
            "\n"
          ],
          "name": "stdout"
        }
      ]
    },
    {
      "cell_type": "code",
      "metadata": {
        "id": "WOM6Djr7iKDJ",
        "colab_type": "code",
        "colab": {}
      },
      "source": [
        "!tar xzf aclImdb_v1.tar.gz"
      ],
      "execution_count": 0,
      "outputs": []
    },
    {
      "cell_type": "code",
      "metadata": {
        "id": "v7uzlN2Y3Ll6",
        "colab_type": "code",
        "colab": {}
      },
      "source": [
        "!mv /content/aclImdb /content/data"
      ],
      "execution_count": 0,
      "outputs": []
    },
    {
      "cell_type": "code",
      "metadata": {
        "id": "sTlEqCl4iLox",
        "colab_type": "code",
        "outputId": "be54c4db-e9b9-4161-a18c-c51b24633c1d",
        "colab": {
          "base_uri": "https://localhost:8080/",
          "height": 727
        }
      },
      "source": [
        "!python3 run.py"
      ],
      "execution_count": 5,
      "outputs": [
        {
          "output_type": "stream",
          "text": [
            "Reading data from Corpus...\n",
            "Building Vocab...\n",
            "Classifier(\n",
            "  (embed): Embedding(108924, 400)\n",
            "  (lstm): LSTM(400, 256, num_layers=3, batch_first=True, dropout=0.5, bidirectional=True)\n",
            "  (drop): Dropout(p=0.3, inplace=False)\n",
            "  (fc): Linear(in_features=512, out_features=1, bias=True)\n",
            "  (sig): Sigmoid()\n",
            ")\n",
            "Starting Training\n",
            "New Best! Saving Model...\n",
            "Epoch: 1/4... Iters: 100... Loss: 0.704798... Val Loss: 0.654351... Time: 82.52626276016235\n",
            "New Best! Saving Model...\n",
            "Epoch: 1/4... Iters: 200... Loss: 0.554525... Val Loss: 0.623987... Time: 163.82087063789368\n",
            "New Best! Saving Model...\n",
            "Epoch: 1/4... Iters: 300... Loss: 0.514547... Val Loss: 0.566010... Time: 245.25857305526733\n",
            "New Best! Saving Model...\n",
            "Epoch: 1/4... Iters: 400... Loss: 0.514662... Val Loss: 0.471307... Time: 325.9656307697296\n",
            "Epoch: 1/4... Iters: 500... Loss: 0.470179... Val Loss: 0.564536... Time: 406.35327410697937\n",
            "New Best! Saving Model...\n",
            "Epoch: 2/4... Iters: 600... Loss: 0.451771... Val Loss: 0.399853... Time: 81.73478555679321\n",
            "New Best! Saving Model...\n",
            "Epoch: 2/4... Iters: 700... Loss: 0.348385... Val Loss: 0.382781... Time: 162.87275195121765\n",
            "New Best! Saving Model...\n",
            "Epoch: 2/4... Iters: 800... Loss: 0.379924... Val Loss: 0.374251... Time: 245.59783935546875\n",
            "Epoch: 2/4... Iters: 900... Loss: 0.302809... Val Loss: 0.605779... Time: 326.9091947078705\n",
            "New Best! Saving Model...\n",
            "Epoch: 2/4... Iters: 1000... Loss: 0.361815... Val Loss: 0.357426... Time: 407.8421015739441\n",
            "Epoch: 3/4... Iters: 1100... Loss: 0.133692... Val Loss: 0.398873... Time: 80.49593758583069\n",
            "Epoch: 3/4... Iters: 1200... Loss: 0.304132... Val Loss: 0.404828... Time: 162.073796749115\n",
            "Epoch: 3/4... Iters: 1300... Loss: 0.170526... Val Loss: 0.383173... Time: 242.88330030441284\n",
            "Epoch: 3/4... Iters: 1400... Loss: 0.266673... Val Loss: 0.363717... Time: 323.37167501449585\n",
            "Epoch: 3/4... Iters: 1500... Loss: 0.284482... Val Loss: 0.373160... Time: 404.43459916114807\n",
            "Epoch: 4/4... Iters: 1600... Loss: 0.214169... Val Loss: 0.416418... Time: 81.00429821014404\n",
            "Epoch: 4/4... Iters: 1700... Loss: 0.088571... Val Loss: 0.363907... Time: 162.70682978630066\n",
            "Epoch: 4/4... Iters: 1800... Loss: 0.249196... Val Loss: 0.360800... Time: 244.6561598777771\n",
            "Epoch: 4/4... Iters: 1900... Loss: 0.257586... Val Loss: 0.398120... Time: 325.4606029987335\n",
            "Epoch: 4/4... Iters: 2000... Loss: 0.212238... Val Loss: 0.418922... Time: 405.7398645877838\n",
            "Starting Evaluation\n",
            "Test loss: 0.358\n",
            "Test accuracy: 0.843\n"
          ],
          "name": "stdout"
        }
      ]
    }
  ]
}