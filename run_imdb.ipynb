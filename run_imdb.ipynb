{
  "nbformat": 4,
  "nbformat_minor": 0,
  "metadata": {
    "colab": {
      "name": "run_imdb",
      "provenance": [],
      "collapsed_sections": [],
      "authorship_tag": "ABX9TyO4dikbAMfblNC6GFhvjv/W",
      "include_colab_link": true
    },
    "kernelspec": {
      "name": "python3",
      "display_name": "Python 3"
    },
    "accelerator": "GPU"
  },
  "cells": [
    {
      "cell_type": "markdown",
      "metadata": {
        "id": "view-in-github",
        "colab_type": "text"
      },
      "source": [
        "<a href=\"https://colab.research.google.com/github/rhn19/NN_TextClassification/blob/master/run_imdb.ipynb\" target=\"_parent\"><img src=\"https://colab.research.google.com/assets/colab-badge.svg\" alt=\"Open In Colab\"/></a>"
      ]
    },
    {
      "cell_type": "code",
      "metadata": {
        "id": "eKw6NkWIiDHY",
        "colab_type": "code",
        "colab": {}
      },
      "source": [
        "!wget \"http://ai.stanford.edu/~amaas/data/sentiment/aclImdb_v1.tar.gz\""
      ],
      "execution_count": 0,
      "outputs": []
    },
    {
      "cell_type": "code",
      "metadata": {
        "id": "WOM6Djr7iKDJ",
        "colab_type": "code",
        "colab": {}
      },
      "source": [
        "!tar xzf aclImdb_v1.tar.gz"
      ],
      "execution_count": 0,
      "outputs": []
    },
    {
      "cell_type": "code",
      "metadata": {
        "id": "v7uzlN2Y3Ll6",
        "colab_type": "code",
        "colab": {}
      },
      "source": [
        "!mv /content/aclImdb /content/data"
      ],
      "execution_count": 0,
      "outputs": []
    },
    {
      "cell_type": "code",
      "metadata": {
        "id": "sTlEqCl4iLox",
        "colab_type": "code",
        "colab": {}
      },
      "source": [
        "!python3 run.py train"
      ],
      "execution_count": 0,
      "outputs": []
    }
  ]
}