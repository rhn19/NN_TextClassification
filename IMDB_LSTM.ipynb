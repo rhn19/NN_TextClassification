{
  "nbformat": 4,
  "nbformat_minor": 0,
  "metadata": {
    "colab": {
      "name": "IMDB-LSTM.ipynb",
      "provenance": [],
      "collapsed_sections": [],
      "include_colab_link": true
    },
    "kernelspec": {
      "name": "python3",
      "display_name": "Python 3"
    },
    "accelerator": "GPU"
  },
  "cells": [
    {
      "cell_type": "markdown",
      "metadata": {
        "id": "view-in-github",
        "colab_type": "text"
      },
      "source": [
        "<a href=\"https://colab.research.google.com/github/rhn19/NN_TextClassification/blob/master/IMDB_LSTM.ipynb\" target=\"_parent\"><img src=\"https://colab.research.google.com/assets/colab-badge.svg\" alt=\"Open In Colab\"/></a>"
      ]
    },
    {
      "cell_type": "code",
      "metadata": {
        "id": "HrxArFWhk2bm",
        "colab_type": "code",
        "outputId": "a1596c8e-5871-4c42-b38c-c9a5c16ec756",
        "colab": {
          "base_uri": "https://localhost:8080/",
          "height": 207
        }
      },
      "source": [
        "!wget \"http://ai.stanford.edu/~amaas/data/sentiment/aclImdb_v1.tar.gz\""
      ],
      "execution_count": 1,
      "outputs": [
        {
          "output_type": "stream",
          "text": [
            "--2020-01-05 06:59:42--  http://ai.stanford.edu/~amaas/data/sentiment/aclImdb_v1.tar.gz\n",
            "Resolving ai.stanford.edu (ai.stanford.edu)... 171.64.68.10\n",
            "Connecting to ai.stanford.edu (ai.stanford.edu)|171.64.68.10|:80... connected.\n",
            "HTTP request sent, awaiting response... 200 OK\n",
            "Length: 84125825 (80M) [application/x-gzip]\n",
            "Saving to: ‘aclImdb_v1.tar.gz’\n",
            "\n",
            "aclImdb_v1.tar.gz   100%[===================>]  80.23M  19.2MB/s    in 6.9s    \n",
            "\n",
            "2020-01-05 06:59:49 (11.7 MB/s) - ‘aclImdb_v1.tar.gz’ saved [84125825/84125825]\n",
            "\n"
          ],
          "name": "stdout"
        }
      ]
    },
    {
      "cell_type": "code",
      "metadata": {
        "id": "mhR7sWQ9mkdA",
        "colab_type": "code",
        "colab": {}
      },
      "source": [
        "!tar xzf aclImdb_v1.tar.gz"
      ],
      "execution_count": 0,
      "outputs": []
    },
    {
      "cell_type": "code",
      "metadata": {
        "id": "D09In5XRwOK3",
        "colab_type": "code",
        "colab": {}
      },
      "source": [
        "import os\n",
        "import re\n",
        "import time\n",
        "from collections import Counter\n",
        "from itertools import chain\n",
        "\n",
        "import seaborn as sns\n",
        "\n",
        "import torch\n",
        "import torch.nn as nn\n",
        "import torch.nn.functional as F\n",
        "from torch.utils.data import DataLoader, TensorDataset\n",
        "from torch.nn.utils.rnn import pack_padded_sequence, pad_packed_sequence\n",
        "\n",
        "DEVICE = torch.device(\"cuda:0\")\n",
        "### x -> reviews, y -> sentiments"
      ],
      "execution_count": 0,
      "outputs": []
    },
    {
      "cell_type": "code",
      "metadata": {
        "id": "64dv1Y3HraKf",
        "colab_type": "code",
        "colab": {}
      },
      "source": [
        "def data_from_file(train_or_test_dir):\n",
        "    reviews = []\n",
        "    labels = []\n",
        "    for sentiment in [\"pos\", \"neg\"]:\n",
        "        dir = os.path.join(train_or_test_dir, sentiment)\n",
        "        for file_name in os.listdir(dir):\n",
        "            file = open(os.path.join(dir, file_name))\n",
        "            reviews.append(file.read().lower())\n",
        "            file.close()\n",
        "            if sentiment == \"pos\":\n",
        "                labels.append(1)\n",
        "            else:\n",
        "                labels.append(0)\n",
        "    return reviews, labels"
      ],
      "execution_count": 0,
      "outputs": []
    },
    {
      "cell_type": "code",
      "metadata": {
        "id": "fbYWgwsGzgH_",
        "colab_type": "code",
        "outputId": "d8504c02-be4c-46ac-94a8-95adb2e15fa0",
        "colab": {
          "base_uri": "https://localhost:8080/",
          "height": 51
        }
      },
      "source": [
        "train_dir = \"/content/aclImdb/train/\"\n",
        "test_dir = \"/content/aclImdb/test/\"\n",
        "x_train ,y_train = data_from_file(train_dir)\n",
        "x_test ,y_test = data_from_file(test_dir)\n",
        "print(len(x_train), len(y_train))\n",
        "print(len(x_test), len(y_test))\n",
        "#print(x_train[:2])"
      ],
      "execution_count": 5,
      "outputs": [
        {
          "output_type": "stream",
          "text": [
            "25000 25000\n",
            "25000 25000\n"
          ],
          "name": "stdout"
        }
      ]
    },
    {
      "cell_type": "code",
      "metadata": {
        "id": "PMqJ1bb6-lFN",
        "colab_type": "code",
        "colab": {}
      },
      "source": [
        "def sent_to_wordlist(corpus):\n",
        "    word_list = []\n",
        "    #nobr = re.compile('\\W*<br.*?>\\W*', re.I)\n",
        "    for sent in corpus:\n",
        "        #sent = nobr.sub('', sent)\n",
        "        sent = sent.replace('<br />', '')\n",
        "        sent = sent.strip().split()\n",
        "        word_list.append(sent)\n",
        "    return word_list"
      ],
      "execution_count": 0,
      "outputs": []
    },
    {
      "cell_type": "code",
      "metadata": {
        "id": "UsoO16Qv0ppI",
        "colab_type": "code",
        "colab": {}
      },
      "source": [
        "def build_vocab(word_list, vocab_size=None):\n",
        "    word_count = Counter(chain(*word_list))\n",
        "    if vocab_size is None:\n",
        "        vocab_size = len(word_count)\n",
        "    #print(vocab_size)\n",
        "    sorted_count = word_count.most_common(vocab_size)\n",
        "    word2idx = {w:i+1 for i, (w, _) in enumerate(sorted_count)}\n",
        "    return word2idx"
      ],
      "execution_count": 0,
      "outputs": []
    },
    {
      "cell_type": "code",
      "metadata": {
        "id": "w8flTiK1M11N",
        "colab_type": "code",
        "colab": {}
      },
      "source": [
        "def words_to_int(word_list, word2idx):\n",
        "    int_list = []\n",
        "    for sent in word_list:\n",
        "        sent = [word2idx[w] for w in sent]\n",
        "        int_list.append(sent)\n",
        "    return int_list"
      ],
      "execution_count": 0,
      "outputs": []
    },
    {
      "cell_type": "code",
      "metadata": {
        "id": "cWd62PbW1v4N",
        "colab_type": "code",
        "outputId": "35272eca-b7e6-4c61-8faa-04c9a0949ab7",
        "colab": {
          "base_uri": "https://localhost:8080/",
          "height": 69
        }
      },
      "source": [
        "x_train_word = sent_to_wordlist(x_train)\n",
        "x_test_word = sent_to_wordlist(x_test)\n",
        "#all_list = x_train_word + x_test_word\n",
        "#print(len(all_list))\n",
        "word2idx = build_vocab(x_train_word + x_test_word)\n",
        "print(len(word2idx))\n",
        "\n",
        "x_train_int = words_to_int(x_train_word , word2idx)\n",
        "x_test_int = words_to_int(x_test_word , word2idx)\n",
        "print(len(x_train_int), len(x_test_int))\n",
        "\n",
        "x_train_len = [len(s) for s in x_train_int]\n",
        "x_test_len = [len(s) for s in x_test_int]\n",
        "print(len(x_train_len), len(x_test_len))"
      ],
      "execution_count": 9,
      "outputs": [
        {
          "output_type": "stream",
          "text": [
            "422521\n",
            "25000 25000\n",
            "25000 25000\n"
          ],
          "name": "stdout"
        }
      ]
    },
    {
      "cell_type": "code",
      "metadata": {
        "id": "ig2B87wAQSTX",
        "colab_type": "code",
        "outputId": "46ba6cb9-ab71-4c5f-b27c-c8ac4a7c1d50",
        "colab": {
          "base_uri": "https://localhost:8080/",
          "height": 282
        }
      },
      "source": [
        "#analyze & remove outliers\n",
        "sns.boxplot(x=x_train_len + x_test_len)"
      ],
      "execution_count": 10,
      "outputs": [
        {
          "output_type": "execute_result",
          "data": {
            "text/plain": [
              "<matplotlib.axes._subplots.AxesSubplot at 0x7fd0790b2940>"
            ]
          },
          "metadata": {
            "tags": []
          },
          "execution_count": 10
        },
        {
          "output_type": "display_data",
          "data": {
            "image/png": "[encoded data removed]",
            "text/plain": [
              "<Figure size 432x288 with 1 Axes>"
            ]
          },
          "metadata": {
            "tags": []
          }
        }
      ]
    },
    {
      "cell_type": "code",
      "metadata": {
        "id": "AB-VvvX0Q-27",
        "colab_type": "code",
        "outputId": "6306b2d4-06a8-4160-bab8-6d5edfac9bfd",
        "colab": {
          "base_uri": "https://localhost:8080/",
          "height": 69
        }
      },
      "source": [
        "LIMIT = 500\n",
        "x_train_int = [x_train_int[i] for i, len in enumerate(x_train_len) if len<LIMIT]\n",
        "x_test_int = [x_test_int[i] for i, len in enumerate(x_test_len) if len<LIMIT]\n",
        "y_train = [y_train[i] for i, len in enumerate(x_train_len) if len<LIMIT]\n",
        "y_test = [y_test[i] for i, len in enumerate(x_test_len) if len<LIMIT]\n",
        "print(len(x_train_int), len(x_test_int))\n",
        "print(len(y_train), len(y_test))\n",
        "\n",
        "x_train_len = [len(s) for s in x_train_int]\n",
        "x_test_len = [len(s) for s in x_test_int]\n",
        "print(len(x_train_len), len(x_test_len))"
      ],
      "execution_count": 11,
      "outputs": [
        {
          "output_type": "stream",
          "text": [
            "23070 23182\n",
            "23070 23182\n",
            "23070 23182\n"
          ],
          "name": "stdout"
        }
      ]
    },
    {
      "cell_type": "code",
      "metadata": {
        "id": "noEFcFZlxOny",
        "colab_type": "code",
        "colab": {}
      },
      "source": [
        "def pad_sequences(int_list, LIMIT, pad_token=0):\n",
        "    padded_list = []\n",
        "    for sent in int_list:\n",
        "        sent = sent + [pad_token] * (LIMIT - len(sent))\n",
        "        padded_list.append(sent)\n",
        "    return padded_list"
      ],
      "execution_count": 0,
      "outputs": []
    },
    {
      "cell_type": "code",
      "metadata": {
        "id": "f6aYS_Iy6pQN",
        "colab_type": "code",
        "outputId": "dd2e84b1-8f34-47aa-c1fe-1f858ca972ec",
        "colab": {
          "base_uri": "https://localhost:8080/",
          "height": 34
        }
      },
      "source": [
        "x_train_padded = pad_sequences(x_train_int, LIMIT)\n",
        "x_test_padded = pad_sequences(x_test_int, LIMIT)\n",
        "print(len(x_train_padded), len(x_test_padded))\n",
        "#print(x_train_padded[1])\n",
        "#t_len = [len(s) for s in x_train_padded]\n",
        "#print(t_len[:10])\n",
        "#print(x_train_len[1])"
      ],
      "execution_count": 13,
      "outputs": [
        {
          "output_type": "stream",
          "text": [
            "23070 23182\n"
          ],
          "name": "stdout"
        }
      ]
    },
    {
      "cell_type": "code",
      "metadata": {
        "id": "JmVIZr8c7uQo",
        "colab_type": "code",
        "outputId": "485ee613-64ae-44d1-bee7-b79348906beb",
        "colab": {
          "base_uri": "https://localhost:8080/",
          "height": 69
        }
      },
      "source": [
        "#validation split\n",
        "VAL_SPLIT_RATIO = 0.5\n",
        "split_len = int(len(x_test_padded) * VAL_SPLIT_RATIO)\n",
        "x_val, x_test = x_test_padded[:split_len:], x_test_padded[split_len:]\n",
        "print(len(x_val), len(x_test))\n",
        "split_len = int(len(y_test) * VAL_SPLIT_RATIO)\n",
        "y_val, y_test = y_test[:split_len], y_test[split_len:]\n",
        "print(len(y_val), len(y_test))\n",
        "\n",
        "split_len = int(len(x_test_len) * VAL_SPLIT_RATIO)\n",
        "val_len, test_len = x_test_len[:split_len], x_test_len[split_len:]\n",
        "print(len(val_len), len(test_len))"
      ],
      "execution_count": 14,
      "outputs": [
        {
          "output_type": "stream",
          "text": [
            "11591 11591\n",
            "11591 11591\n",
            "11591 11591\n"
          ],
          "name": "stdout"
        }
      ]
    },
    {
      "cell_type": "code",
      "metadata": {
        "id": "YG8IApFfpxGP",
        "colab_type": "code",
        "outputId": "8fff8210-a3e2-4e3e-ca36-32b01e54076d",
        "colab": {
          "base_uri": "https://localhost:8080/",
          "height": 51
        }
      },
      "source": [
        "#sanity check for seq lengths\n",
        "print(x_test_len[4], val_len[4])\n",
        "print(x_test_len[11592], test_len[1])"
      ],
      "execution_count": 15,
      "outputs": [
        {
          "output_type": "stream",
          "text": [
            "116 116\n",
            "167 167\n"
          ],
          "name": "stdout"
        }
      ]
    },
    {
      "cell_type": "code",
      "metadata": {
        "id": "VYxxSrnyEyM4",
        "colab_type": "code",
        "colab": {}
      },
      "source": [
        "#tensors & batches\n",
        "train_data = TensorDataset(torch.tensor(x_train_padded, device=DEVICE), torch.tensor(y_train, device=DEVICE))\n",
        "val_data = TensorDataset(torch.tensor(x_val, device=DEVICE), torch.tensor(y_val, device=DEVICE))\n",
        "test_data = TensorDataset(torch.tensor(x_test, device=DEVICE), torch.tensor(y_test, device=DEVICE))\n",
        "\n",
        "BATCH_SIZE = 50\n",
        "train_loader = DataLoader(train_data, batch_size=BATCH_SIZE, shuffle=True)\n",
        "val_loader = DataLoader(val_data, batch_size=BATCH_SIZE, shuffle=True)\n",
        "test_loader = DataLoader(test_data, batch_size=BATCH_SIZE, shuffle=True)"
      ],
      "execution_count": 0,
      "outputs": []
    },
    {
      "cell_type": "code",
      "metadata": {
        "id": "H4aUuFUZPnIZ",
        "colab_type": "code",
        "outputId": "84d8b7bf-7738-444c-c97e-438e8fe9d0dc",
        "colab": {
          "base_uri": "https://localhost:8080/",
          "height": 277
        }
      },
      "source": [
        "#Sanity check for batches\n",
        "dataiter = iter(train_loader)\n",
        "sample_x, sample_y = dataiter.next()\n",
        "print('Sample input size: ', sample_x.size()) # batch_size, seq_length\n",
        "print('Sample input: \\n', sample_x)\n",
        "print()\n",
        "print('Sample label size: ', sample_y.size()) # batch_size\n",
        "print('Sample label: \\n', sample_y)"
      ],
      "execution_count": 17,
      "outputs": [
        {
          "output_type": "stream",
          "text": [
            "Sample input size:  torch.Size([50, 500])\n",
            "Sample input: \n",
            " tensor([[    9,    18,     6,  ...,     0,     0,     0],\n",
            "        [   91,     2,  6358,  ...,     0,     0,     0],\n",
            "        [    8,    12,  1703,  ...,     0,     0,     0],\n",
            "        ...,\n",
            "        [    2,   493, 13961,  ...,     0,     0,     0],\n",
            "        [ 2244,  1304,  4324,  ...,     0,     0,     0],\n",
            "        [    8,    95,     1,  ...,     0,     0,     0]], device='cuda:0')\n",
            "\n",
            "Sample label size:  torch.Size([50])\n",
            "Sample label: \n",
            " tensor([1, 0, 1, 0, 0, 1, 1, 0, 0, 0, 1, 0, 1, 0, 0, 0, 0, 1, 0, 0, 1, 1, 1, 1,\n",
            "        1, 0, 1, 1, 0, 1, 1, 0, 0, 1, 1, 1, 0, 0, 0, 0, 1, 0, 0, 1, 0, 0, 1, 1,\n",
            "        1, 1], device='cuda:0')\n"
          ],
          "name": "stdout"
        }
      ]
    },
    {
      "cell_type": "code",
      "metadata": {
        "id": "P0JwPZZwP2rX",
        "colab_type": "code",
        "colab": {}
      },
      "source": [
        "class RNN(nn.Module):\n",
        "    def __init__(self, vocab_size, hidden_size, num_outputs, embedding_dim, seq_len, bidirectional=False, num_layers=1, dropout=0.3):\n",
        "        super(RNN, self).__init__()\n",
        "        if bidirectional:\n",
        "            self.dirn = 2\n",
        "        else:\n",
        "            self.dirn = 1\n",
        "\n",
        "        self.embedding = nn.Embedding(vocab_size, embedding_dim)\n",
        "        self.LSTM = nn.LSTM(embedding_dim, hidden_size, num_layers=num_layers, bidirectional=bidirectional)\n",
        "        self.dropout = nn.Dropout(p=dropout)\n",
        "        self.fc = nn.Linear(hidden_size * self.dirn * seq_len, num_outputs)\n",
        "        self.sigmoid = nn.Sigmoid()\n",
        "\n",
        "    def forward(self, input:torch.Tensor, sent_len:torch.Tensor)->torch.Tensor:\n",
        "        #input = batch_size, seq_len\n",
        "        batch_size = input.size()[0]\n",
        "        embed_inp = self.embedding(input)   #batch_size, seq_len, embedding_dim\n",
        "        embed_inp = embed_inp.permute(1,0,2)    #seq_len, batch_size, embedding_dim\n",
        "        #figure out packing with dataloader- sending seq_lens of batch without another computation here\n",
        "        packed_inp = pack_padded_sequence(embed_inp, sent_len)\n",
        "        rnn , (hidden, cell) = self.LSTM(packed_inp) #rnn - seq_len, batch_size, num_dir * hidden_size\n",
        "        rnn, _  = pad_packed_sequence(rnn)\n",
        "        rnn = rnn.view(batch_size, -1)  #batch_size, num_dir*hidden_size*seq_len\n",
        "        #print(rnn.size())\n",
        "\n",
        "        drop = self.dropout(rnn)\n",
        "        fc = self.fc(drop)  #batch_size, num_outputs\n",
        "        #print(fc.size())\n",
        "\n",
        "        #drop = self.dropout(torch.cat((hidden[-2,:,:], hidden[-1,:,:]), dim = 1))\n",
        "        #fc = self.fc(drop)\n",
        "\n",
        "        output = self.sigmoid(fc) #batch_size\n",
        "        return output.squeeze()"
      ],
      "execution_count": 0,
      "outputs": []
    },
    {
      "cell_type": "code",
      "metadata": {
        "id": "i7Jsp9zn0tw7",
        "colab_type": "code",
        "colab": {}
      },
      "source": [
        "#CONSTANTS & VARIABLES\n",
        "VOCAB_SIZE = len(word2idx)\n",
        "HIDDEN_SIZE = 256\n",
        "NUM_OUTPUTS = 1\n",
        "EMBEDDING_DIM = 400"
      ],
      "execution_count": 0,
      "outputs": []
    },
    {
      "cell_type": "code",
      "metadata": {
        "id": "BO7xVnSB1i76",
        "colab_type": "code",
        "outputId": "d0005898-a2d6-40a3-cc99-060905b59224",
        "colab": {
          "base_uri": "https://localhost:8080/",
          "height": 138
        }
      },
      "source": [
        "model = RNN(VOCAB_SIZE, HIDDEN_SIZE, NUM_OUTPUTS, EMBEDDING_DIM, 500, bidirectional=True)\n",
        "print(model)\n",
        "model =  model.to(DEVICE)\n",
        "optimizer = torch.optim.Adam(model.parameters())\n",
        "criterion = nn.BCELoss()\n",
        "criterion = criterion.to(DEVICE)"
      ],
      "execution_count": 30,
      "outputs": [
        {
          "output_type": "stream",
          "text": [
            "RNN(\n",
            "  (embedding): Embedding(422521, 400)\n",
            "  (LSTM): LSTM(400, 256, bidirectional=True)\n",
            "  (dropout): Dropout(p=0.3, inplace=False)\n",
            "  (fc): Linear(in_features=256000, out_features=1, bias=True)\n",
            "  (sigmoid): Sigmoid()\n",
            ")\n"
          ],
          "name": "stdout"
        }
      ]
    },
    {
      "cell_type": "code",
      "metadata": {
        "id": "hpWy1bh0GkO7",
        "colab_type": "code",
        "colab": {}
      },
      "source": [
        "def accuracy(y_pred, y):\n",
        "    rounded_pred = torch.round(y_pred)\n",
        "    correct = (rounded_pred == y).float()   #float for division\n",
        "    return correct.sum()/len(correct)"
      ],
      "execution_count": 0,
      "outputs": []
    },
    {
      "cell_type": "code",
      "metadata": {
        "id": "5cIgdQOFGrKy",
        "colab_type": "code",
        "colab": {}
      },
      "source": [
        "def train(model, optimizer, criterion, train_loader, DEVICE):\n",
        "    epoch_loss = 0\n",
        "    epoch_acc = 0\n",
        "    size = len(train_loader)\n",
        "    train_iter = iter(train_loader)\n",
        "    model.train()\n",
        "\n",
        "    for x_batch, y_batch in train_iter:\n",
        "        sent_len = [len(s) for s in x_batch]\n",
        "        sent_len = torch.tensor(sent_len, device=DEVICE)\n",
        "        optimizer.zero_grad()\n",
        "        preds = model(x_batch, sent_len)\n",
        "        y_batch = y_batch.type_as(preds)\n",
        "        loss = criterion(preds, y_batch)\n",
        "        acc = accuracy(preds, y_batch)\n",
        "        loss.backward()\n",
        "        optimizer.step()\n",
        "        epoch_loss += loss.item()\n",
        "        epoch_acc += loss.item()\n",
        "\n",
        "    return epoch_loss/size, epoch_acc/size"
      ],
      "execution_count": 0,
      "outputs": []
    },
    {
      "cell_type": "code",
      "metadata": {
        "id": "qqeTBrCtGzPg",
        "colab_type": "code",
        "colab": {}
      },
      "source": [
        "def evaluate(model, criterion, val_loader, DEVICE):\n",
        "    epoch_loss = 0\n",
        "    epoch_acc = 0\n",
        "    size = len(train_loader)\n",
        "    val_iter = iter(val_loader)\n",
        "    model.eval()\n",
        "\n",
        "    with torch.no_grad():\n",
        "        for x_batch, y_batch in val_iter:\n",
        "            sent_len = [len(s) for s in x_batch]\n",
        "            sent_len = torch.tensor(sent_len, device=DEVICE)\n",
        "            preds = model(x_batch, sent_len)\n",
        "            y_batch = y_batch.type_as(preds)\n",
        "            loss = criterion(preds, y_batch)\n",
        "            acc = accuracy(preds, y_batch)\n",
        "            epoch_loss += loss.item()\n",
        "            epoch_acc += loss.item()\n",
        "\n",
        "    return epoch_loss/size, epoch_acc/size"
      ],
      "execution_count": 0,
      "outputs": []
    },
    {
      "cell_type": "code",
      "metadata": {
        "id": "FXXxmBuGG4wW",
        "colab_type": "code",
        "outputId": "13d57f1d-b9f1-42b2-a6a4-da3c42577118",
        "colab": {
          "base_uri": "https://localhost:8080/",
          "height": 1000
        }
      },
      "source": [
        "NUM_EPOCHS = 20\n",
        "valid_loss = float('inf')\n",
        "for epoch in range(NUM_EPOCHS):\n",
        "    start = time.time()\n",
        "    train_loss, train_acc = train(model, optimizer, criterion, train_loader, DEVICE)\n",
        "    eval_loss, eval_acc = evaluate(model, criterion, val_loader, DEVICE)\n",
        "    end = time.time()\n",
        "\n",
        "    if eval_loss < valid_loss:\n",
        "        valid_loss = eval_loss\n",
        "        torch.save(model.state_dict(), 'imdb_best')\n",
        "\n",
        "    print(\"EPOCH: \", epoch)\n",
        "    print(\"TIME: \", end-start)\n",
        "    print(f'\\tTrain Loss: {train_loss:.3f} | Train Acc: {train_acc*100:.2f}%')\n",
        "    print(f'\\t Val. Loss: {eval_loss:.3f} |  Val. Acc: {eval_acc*100:.2f}%')"
      ],
      "execution_count": 0,
      "outputs": [
        {
          "output_type": "stream",
          "text": [
            "EPOCH:  0\n",
            "TIME:  76.71344041824341\n",
            "\tTrain Loss: 0.916 | Train Acc: 91.59%\n",
            "\t Val. Loss: 0.445 |  Val. Acc: 44.53%\n",
            "EPOCH:  1\n",
            "TIME:  80.00319242477417\n",
            "\tTrain Loss: 0.882 | Train Acc: 88.17%\n",
            "\t Val. Loss: 0.455 |  Val. Acc: 45.54%\n",
            "EPOCH:  2\n",
            "TIME:  81.03488731384277\n",
            "\tTrain Loss: 0.900 | Train Acc: 90.00%\n",
            "\t Val. Loss: 0.418 |  Val. Acc: 41.81%\n",
            "EPOCH:  3\n",
            "TIME:  81.00261783599854\n",
            "\tTrain Loss: 0.890 | Train Acc: 89.02%\n",
            "\t Val. Loss: 0.393 |  Val. Acc: 39.27%\n",
            "EPOCH:  4\n",
            "TIME:  81.13898134231567\n",
            "\tTrain Loss: 0.873 | Train Acc: 87.27%\n",
            "\t Val. Loss: 0.364 |  Val. Acc: 36.43%\n",
            "EPOCH:  5\n",
            "TIME:  81.1989471912384\n",
            "\tTrain Loss: 0.861 | Train Acc: 86.14%\n",
            "\t Val. Loss: 0.381 |  Val. Acc: 38.14%\n",
            "EPOCH:  6\n",
            "TIME:  80.7236340045929\n",
            "\tTrain Loss: 0.847 | Train Acc: 84.74%\n",
            "\t Val. Loss: 0.404 |  Val. Acc: 40.39%\n",
            "EPOCH:  7\n",
            "TIME:  80.9766218662262\n",
            "\tTrain Loss: 0.845 | Train Acc: 84.50%\n",
            "\t Val. Loss: 0.463 |  Val. Acc: 46.34%\n",
            "EPOCH:  8\n",
            "TIME:  80.92669582366943\n",
            "\tTrain Loss: 0.825 | Train Acc: 82.47%\n",
            "\t Val. Loss: 0.360 |  Val. Acc: 35.99%\n",
            "EPOCH:  9\n",
            "TIME:  81.25777077674866\n",
            "\tTrain Loss: 0.822 | Train Acc: 82.24%\n",
            "\t Val. Loss: 0.414 |  Val. Acc: 41.38%\n",
            "EPOCH:  10\n",
            "TIME:  81.12633895874023\n",
            "\tTrain Loss: 0.802 | Train Acc: 80.20%\n",
            "\t Val. Loss: 0.408 |  Val. Acc: 40.77%\n",
            "EPOCH:  11\n",
            "TIME:  80.70498776435852\n",
            "\tTrain Loss: 0.806 | Train Acc: 80.58%\n",
            "\t Val. Loss: 0.412 |  Val. Acc: 41.24%\n",
            "EPOCH:  12\n",
            "TIME:  81.00480675697327\n",
            "\tTrain Loss: 0.789 | Train Acc: 78.89%\n",
            "\t Val. Loss: 0.331 |  Val. Acc: 33.10%\n",
            "EPOCH:  13\n",
            "TIME:  81.14452600479126\n",
            "\tTrain Loss: 0.792 | Train Acc: 79.19%\n",
            "\t Val. Loss: 0.297 |  Val. Acc: 29.75%\n",
            "EPOCH:  14\n",
            "TIME:  81.16408228874207\n",
            "\tTrain Loss: 0.789 | Train Acc: 78.86%\n",
            "\t Val. Loss: 0.410 |  Val. Acc: 41.04%\n",
            "EPOCH:  15\n",
            "TIME:  81.10997295379639\n",
            "\tTrain Loss: 0.772 | Train Acc: 77.22%\n",
            "\t Val. Loss: 0.329 |  Val. Acc: 32.95%\n",
            "EPOCH:  16\n",
            "TIME:  80.85751819610596\n",
            "\tTrain Loss: 0.771 | Train Acc: 77.12%\n",
            "\t Val. Loss: 0.330 |  Val. Acc: 33.04%\n",
            "EPOCH:  17\n",
            "TIME:  80.95782256126404\n",
            "\tTrain Loss: 0.769 | Train Acc: 76.92%\n",
            "\t Val. Loss: 0.322 |  Val. Acc: 32.24%\n"
          ],
          "name": "stdout"
        }
      ]
    },
    {
      "cell_type": "code",
      "metadata": {
        "id": "FuzZxRzQG84f",
        "colab_type": "code",
        "outputId": "bb90da81-e74a-4391-a92f-a9c8dfc06d26",
        "colab": {
          "base_uri": "https://localhost:8080/",
          "height": 345
        }
      },
      "source": [
        "model.load_state_dict(torch.load('imdb_best'))\n",
        "test_loss, test_acc = evaluate(model, criterion, test_loader, DEVICE)\n",
        "print(f'\\t Test Loss: {test_loss:.3f} |  Test Acc: {test_acc*100:.2f}%')"
      ],
      "execution_count": 0,
      "outputs": [
        {
          "output_type": "error",
          "ename": "RuntimeError",
          "evalue": "ignored",
          "traceback": [
            "\u001b[0;31m---------------------------------------------------------------------------\u001b[0m",
            "\u001b[0;31mRuntimeError\u001b[0m                              Traceback (most recent call last)",
            "\u001b[0;32m<ipython-input-23-3af980f67dcb>\u001b[0m in \u001b[0;36m<module>\u001b[0;34m()\u001b[0m\n\u001b[1;32m      1\u001b[0m \u001b[0mmodel\u001b[0m\u001b[0;34m.\u001b[0m\u001b[0mload_state_dict\u001b[0m\u001b[0;34m(\u001b[0m\u001b[0mtorch\u001b[0m\u001b[0;34m.\u001b[0m\u001b[0mload\u001b[0m\u001b[0;34m(\u001b[0m\u001b[0;34m'imdb_best'\u001b[0m\u001b[0;34m)\u001b[0m\u001b[0;34m)\u001b[0m\u001b[0;34m\u001b[0m\u001b[0;34m\u001b[0m\u001b[0m\n\u001b[0;32m----> 2\u001b[0;31m \u001b[0mtest_loss\u001b[0m\u001b[0;34m,\u001b[0m \u001b[0mtest_acc\u001b[0m \u001b[0;34m=\u001b[0m \u001b[0mevaluate\u001b[0m\u001b[0;34m(\u001b[0m\u001b[0mmodel\u001b[0m\u001b[0;34m,\u001b[0m \u001b[0mcriterion\u001b[0m\u001b[0;34m,\u001b[0m \u001b[0mtest_loader\u001b[0m\u001b[0;34m,\u001b[0m \u001b[0mDEVICE\u001b[0m\u001b[0;34m)\u001b[0m\u001b[0;34m\u001b[0m\u001b[0;34m\u001b[0m\u001b[0m\n\u001b[0m\u001b[1;32m      3\u001b[0m \u001b[0mprint\u001b[0m\u001b[0;34m(\u001b[0m\u001b[0;34mf'\\t Test Loss: {test_loss:.3f} |  Test Acc: {test_acc*100:.2f}%'\u001b[0m\u001b[0;34m)\u001b[0m\u001b[0;34m\u001b[0m\u001b[0;34m\u001b[0m\u001b[0m\n",
            "\u001b[0;32m<ipython-input-22-ac32d36ec5d3>\u001b[0m in \u001b[0;36mevaluate\u001b[0;34m(model, criterion, val_loader, DEVICE)\u001b[0m\n\u001b[1;32m     10\u001b[0m             \u001b[0msent_len\u001b[0m \u001b[0;34m=\u001b[0m \u001b[0;34m[\u001b[0m\u001b[0mlen\u001b[0m\u001b[0;34m(\u001b[0m\u001b[0ms\u001b[0m\u001b[0;34m)\u001b[0m \u001b[0;32mfor\u001b[0m \u001b[0ms\u001b[0m \u001b[0;32min\u001b[0m \u001b[0mx_batch\u001b[0m\u001b[0;34m]\u001b[0m\u001b[0;34m\u001b[0m\u001b[0;34m\u001b[0m\u001b[0m\n\u001b[1;32m     11\u001b[0m             \u001b[0msent_len\u001b[0m \u001b[0;34m=\u001b[0m \u001b[0mtorch\u001b[0m\u001b[0;34m.\u001b[0m\u001b[0mtensor\u001b[0m\u001b[0;34m(\u001b[0m\u001b[0msent_len\u001b[0m\u001b[0;34m,\u001b[0m \u001b[0mdevice\u001b[0m\u001b[0;34m=\u001b[0m\u001b[0mDEVICE\u001b[0m\u001b[0;34m)\u001b[0m\u001b[0;34m\u001b[0m\u001b[0;34m\u001b[0m\u001b[0m\n\u001b[0;32m---> 12\u001b[0;31m             \u001b[0mpreds\u001b[0m \u001b[0;34m=\u001b[0m \u001b[0mmodel\u001b[0m\u001b[0;34m(\u001b[0m\u001b[0mx_batch\u001b[0m\u001b[0;34m,\u001b[0m \u001b[0msent_len\u001b[0m\u001b[0;34m)\u001b[0m\u001b[0;34m\u001b[0m\u001b[0;34m\u001b[0m\u001b[0m\n\u001b[0m\u001b[1;32m     13\u001b[0m             \u001b[0my_batch\u001b[0m \u001b[0;34m=\u001b[0m \u001b[0my_batch\u001b[0m\u001b[0;34m.\u001b[0m\u001b[0mtype_as\u001b[0m\u001b[0;34m(\u001b[0m\u001b[0mpreds\u001b[0m\u001b[0;34m)\u001b[0m\u001b[0;34m\u001b[0m\u001b[0;34m\u001b[0m\u001b[0m\n\u001b[1;32m     14\u001b[0m             \u001b[0mloss\u001b[0m \u001b[0;34m=\u001b[0m \u001b[0mcriterion\u001b[0m\u001b[0;34m(\u001b[0m\u001b[0mpreds\u001b[0m\u001b[0;34m,\u001b[0m \u001b[0my_batch\u001b[0m\u001b[0;34m)\u001b[0m\u001b[0;34m\u001b[0m\u001b[0;34m\u001b[0m\u001b[0m\n",
            "\u001b[0;32m/usr/local/lib/python3.6/dist-packages/torch/nn/modules/module.py\u001b[0m in \u001b[0;36m__call__\u001b[0;34m(self, *input, **kwargs)\u001b[0m\n\u001b[1;32m    539\u001b[0m             \u001b[0mresult\u001b[0m \u001b[0;34m=\u001b[0m \u001b[0mself\u001b[0m\u001b[0;34m.\u001b[0m\u001b[0m_slow_forward\u001b[0m\u001b[0;34m(\u001b[0m\u001b[0;34m*\u001b[0m\u001b[0minput\u001b[0m\u001b[0;34m,\u001b[0m \u001b[0;34m**\u001b[0m\u001b[0mkwargs\u001b[0m\u001b[0;34m)\u001b[0m\u001b[0;34m\u001b[0m\u001b[0;34m\u001b[0m\u001b[0m\n\u001b[1;32m    540\u001b[0m         \u001b[0;32melse\u001b[0m\u001b[0;34m:\u001b[0m\u001b[0;34m\u001b[0m\u001b[0;34m\u001b[0m\u001b[0m\n\u001b[0;32m--> 541\u001b[0;31m             \u001b[0mresult\u001b[0m \u001b[0;34m=\u001b[0m \u001b[0mself\u001b[0m\u001b[0;34m.\u001b[0m\u001b[0mforward\u001b[0m\u001b[0;34m(\u001b[0m\u001b[0;34m*\u001b[0m\u001b[0minput\u001b[0m\u001b[0;34m,\u001b[0m \u001b[0;34m**\u001b[0m\u001b[0mkwargs\u001b[0m\u001b[0;34m)\u001b[0m\u001b[0;34m\u001b[0m\u001b[0;34m\u001b[0m\u001b[0m\n\u001b[0m\u001b[1;32m    542\u001b[0m         \u001b[0;32mfor\u001b[0m \u001b[0mhook\u001b[0m \u001b[0;32min\u001b[0m \u001b[0mself\u001b[0m\u001b[0;34m.\u001b[0m\u001b[0m_forward_hooks\u001b[0m\u001b[0;34m.\u001b[0m\u001b[0mvalues\u001b[0m\u001b[0;34m(\u001b[0m\u001b[0;34m)\u001b[0m\u001b[0;34m:\u001b[0m\u001b[0;34m\u001b[0m\u001b[0;34m\u001b[0m\u001b[0m\n\u001b[1;32m    543\u001b[0m             \u001b[0mhook_result\u001b[0m \u001b[0;34m=\u001b[0m \u001b[0mhook\u001b[0m\u001b[0;34m(\u001b[0m\u001b[0mself\u001b[0m\u001b[0;34m,\u001b[0m \u001b[0minput\u001b[0m\u001b[0;34m,\u001b[0m \u001b[0mresult\u001b[0m\u001b[0;34m)\u001b[0m\u001b[0;34m\u001b[0m\u001b[0;34m\u001b[0m\u001b[0m\n",
            "\u001b[0;32m<ipython-input-17-9a57e4b8a44a>\u001b[0m in \u001b[0;36mforward\u001b[0;34m(self, input, sent_len)\u001b[0m\n\u001b[1;32m     19\u001b[0m         \u001b[0membed_inp\u001b[0m \u001b[0;34m=\u001b[0m \u001b[0membed_inp\u001b[0m\u001b[0;34m.\u001b[0m\u001b[0mpermute\u001b[0m\u001b[0;34m(\u001b[0m\u001b[0;36m1\u001b[0m\u001b[0;34m,\u001b[0m\u001b[0;36m0\u001b[0m\u001b[0;34m,\u001b[0m\u001b[0;36m2\u001b[0m\u001b[0;34m)\u001b[0m    \u001b[0;31m#seq_len, batch_size, embedding_dim\u001b[0m\u001b[0;34m\u001b[0m\u001b[0;34m\u001b[0m\u001b[0m\n\u001b[1;32m     20\u001b[0m         \u001b[0;31m#figure out packing with dataloader- sending seq_lens of batch without another computation here\u001b[0m\u001b[0;34m\u001b[0m\u001b[0;34m\u001b[0m\u001b[0;34m\u001b[0m\u001b[0m\n\u001b[0;32m---> 21\u001b[0;31m         \u001b[0mpacked_inp\u001b[0m \u001b[0;34m=\u001b[0m \u001b[0mpack_padded_sequence\u001b[0m\u001b[0;34m(\u001b[0m\u001b[0membed_inp\u001b[0m\u001b[0;34m,\u001b[0m \u001b[0msent_len\u001b[0m\u001b[0;34m)\u001b[0m\u001b[0;34m\u001b[0m\u001b[0;34m\u001b[0m\u001b[0m\n\u001b[0m\u001b[1;32m     22\u001b[0m         \u001b[0mrnn\u001b[0m \u001b[0;34m,\u001b[0m \u001b[0;34m(\u001b[0m\u001b[0mhidden\u001b[0m\u001b[0;34m,\u001b[0m \u001b[0mcell\u001b[0m\u001b[0;34m)\u001b[0m \u001b[0;34m=\u001b[0m \u001b[0mself\u001b[0m\u001b[0;34m.\u001b[0m\u001b[0mLSTM\u001b[0m\u001b[0;34m(\u001b[0m\u001b[0mpacked_inp\u001b[0m\u001b[0;34m)\u001b[0m \u001b[0;31m#rnn - seq_len, batch_size, num_dir * hidden_size\u001b[0m\u001b[0;34m\u001b[0m\u001b[0;34m\u001b[0m\u001b[0m\n\u001b[1;32m     23\u001b[0m         \u001b[0mrnn\u001b[0m\u001b[0;34m,\u001b[0m \u001b[0m_\u001b[0m  \u001b[0;34m=\u001b[0m \u001b[0mpad_packed_sequence\u001b[0m\u001b[0;34m(\u001b[0m\u001b[0mrnn\u001b[0m\u001b[0;34m)\u001b[0m\u001b[0;34m\u001b[0m\u001b[0;34m\u001b[0m\u001b[0m\n",
            "\u001b[0;32m/usr/local/lib/python3.6/dist-packages/torch/nn/utils/rnn.py\u001b[0m in \u001b[0;36mpack_padded_sequence\u001b[0;34m(input, lengths, batch_first, enforce_sorted)\u001b[0m\n\u001b[1;32m    270\u001b[0m                       \u001b[0;34m'the trace incorrect for any other combination of lengths.'\u001b[0m\u001b[0;34m,\u001b[0m\u001b[0;34m\u001b[0m\u001b[0;34m\u001b[0m\u001b[0m\n\u001b[1;32m    271\u001b[0m                       stacklevel=2)\n\u001b[0;32m--> 272\u001b[0;31m     \u001b[0mlengths\u001b[0m \u001b[0;34m=\u001b[0m \u001b[0mtorch\u001b[0m\u001b[0;34m.\u001b[0m\u001b[0mas_tensor\u001b[0m\u001b[0;34m(\u001b[0m\u001b[0mlengths\u001b[0m\u001b[0;34m,\u001b[0m \u001b[0mdtype\u001b[0m\u001b[0;34m=\u001b[0m\u001b[0mtorch\u001b[0m\u001b[0;34m.\u001b[0m\u001b[0mint64\u001b[0m\u001b[0;34m)\u001b[0m\u001b[0;34m\u001b[0m\u001b[0;34m\u001b[0m\u001b[0m\n\u001b[0m\u001b[1;32m    273\u001b[0m     \u001b[0;32mif\u001b[0m \u001b[0menforce_sorted\u001b[0m\u001b[0;34m:\u001b[0m\u001b[0;34m\u001b[0m\u001b[0;34m\u001b[0m\u001b[0m\n\u001b[1;32m    274\u001b[0m         \u001b[0msorted_indices\u001b[0m \u001b[0;34m=\u001b[0m \u001b[0;32mNone\u001b[0m\u001b[0;34m\u001b[0m\u001b[0;34m\u001b[0m\u001b[0m\n",
            "\u001b[0;31mRuntimeError\u001b[0m: CUDA error: device-side assert triggered"
          ]
        }
      ]
    }
  ]
}