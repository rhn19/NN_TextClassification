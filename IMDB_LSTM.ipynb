{
  "nbformat": 4,
  "nbformat_minor": 0,
  "metadata": {
    "colab": {
      "name": "IMDB-LSTM.ipynb",
      "provenance": [],
      "collapsed_sections": [],
      "include_colab_link": true
    },
    "kernelspec": {
      "name": "python3",
      "display_name": "Python 3"
    },
    "accelerator": "GPU"
  },
  "cells": [
    {
      "cell_type": "markdown",
      "metadata": {
        "id": "view-in-github",
        "colab_type": "text"
      },
      "source": [
        "<a href=\"https://colab.research.google.com/github/rhn19/NN_TextClassification/blob/master/IMDB_LSTM.ipynb\" target=\"_parent\"><img src=\"https://colab.research.google.com/assets/colab-badge.svg\" alt=\"Open In Colab\"/></a>"
      ]
    },
    {
      "cell_type": "code",
      "metadata": {
        "id": "HrxArFWhk2bm",
        "colab_type": "code",
        "outputId": "e7cf4cf5-33ac-4f09-d963-0c6c35a41072",
        "colab": {
          "base_uri": "https://localhost:8080/",
          "height": 207
        }
      },
      "source": [
        "!wget \"http://ai.stanford.edu/~amaas/data/sentiment/aclImdb_v1.tar.gz\""
      ],
      "execution_count": 30,
      "outputs": [
        {
          "output_type": "stream",
          "text": [
            "--2020-01-05 14:32:51--  http://ai.stanford.edu/~amaas/data/sentiment/aclImdb_v1.tar.gz\n",
            "Resolving ai.stanford.edu (ai.stanford.edu)... 171.64.68.10\n",
            "Connecting to ai.stanford.edu (ai.stanford.edu)|171.64.68.10|:80... connected.\n",
            "HTTP request sent, awaiting response... 200 OK\n",
            "Length: 84125825 (80M) [application/x-gzip]\n",
            "Saving to: ‘aclImdb_v1.tar.gz.1’\n",
            "\n",
            "aclImdb_v1.tar.gz.1 100%[===================>]  80.23M  20.1MB/s    in 6.9s    \n",
            "\n",
            "2020-01-05 14:32:58 (11.6 MB/s) - ‘aclImdb_v1.tar.gz.1’ saved [84125825/84125825]\n",
            "\n"
          ],
          "name": "stdout"
        }
      ]
    },
    {
      "cell_type": "code",
      "metadata": {
        "id": "mhR7sWQ9mkdA",
        "colab_type": "code",
        "colab": {}
      },
      "source": [
        "!tar xzf aclImdb_v1.tar.gz"
      ],
      "execution_count": 0,
      "outputs": []
    },
    {
      "cell_type": "markdown",
      "metadata": {
        "id": "ppEQmBOBNYjt",
        "colab_type": "text"
      },
      "source": [
        "Bugs -\n",
        "Some problem with Dataloaders & their seq_lens. This makes the LSTM output incorrect. Probably something with the last item having a different length in one of the dataloaders.<br>\n",
        "How to use pack padded when having shuffle with Dataloaders without the extra naive computation in train & evaluate?"
      ]
    },
    {
      "cell_type": "code",
      "metadata": {
        "id": "D09In5XRwOK3",
        "colab_type": "code",
        "colab": {}
      },
      "source": [
        "import os\n",
        "import re\n",
        "import time\n",
        "from collections import Counter\n",
        "from itertools import chain\n",
        "\n",
        "import seaborn as sns\n",
        "\n",
        "import torch\n",
        "import torch.nn as nn\n",
        "import torch.nn.functional as F\n",
        "from torch.utils.data import DataLoader, TensorDataset\n",
        "from torch.nn.utils.rnn import pack_padded_sequence, pad_packed_sequence\n",
        "\n",
        "DEVICE = torch.device(\"cuda:0\")\n",
        "### x -> reviews, y -> sentiments"
      ],
      "execution_count": 0,
      "outputs": []
    },
    {
      "cell_type": "code",
      "metadata": {
        "id": "64dv1Y3HraKf",
        "colab_type": "code",
        "colab": {}
      },
      "source": [
        "def data_from_file(train_or_test_dir):\n",
        "    reviews = []\n",
        "    labels = []\n",
        "    for sentiment in [\"pos\", \"neg\"]:\n",
        "        dir = os.path.join(train_or_test_dir, sentiment)\n",
        "        for file_name in os.listdir(dir):\n",
        "            file = open(os.path.join(dir, file_name))\n",
        "            reviews.append(file.read().lower())\n",
        "            file.close()\n",
        "            if sentiment == \"pos\":\n",
        "                labels.append(1)\n",
        "            else:\n",
        "                labels.append(0)\n",
        "    return reviews, labels"
      ],
      "execution_count": 0,
      "outputs": []
    },
    {
      "cell_type": "code",
      "metadata": {
        "id": "fbYWgwsGzgH_",
        "colab_type": "code",
        "outputId": "9180cbcd-010f-4391-bca5-0f3f9dee8083",
        "colab": {
          "base_uri": "https://localhost:8080/",
          "height": 51
        }
      },
      "source": [
        "train_dir = \"/content/aclImdb/train/\"\n",
        "test_dir = \"/content/aclImdb/test/\"\n",
        "x_train ,y_train = data_from_file(train_dir)\n",
        "x_test ,y_test = data_from_file(test_dir)\n",
        "print(len(x_train), len(y_train))\n",
        "print(len(x_test), len(y_test))\n",
        "#print(x_train[:2])"
      ],
      "execution_count": 3,
      "outputs": [
        {
          "output_type": "stream",
          "text": [
            "25000 25000\n",
            "25000 25000\n"
          ],
          "name": "stdout"
        }
      ]
    },
    {
      "cell_type": "code",
      "metadata": {
        "id": "PMqJ1bb6-lFN",
        "colab_type": "code",
        "colab": {}
      },
      "source": [
        "def sent_to_wordlist(corpus):\n",
        "    word_list = []\n",
        "    #nobr = re.compile('\\W*<br.*?>\\W*', re.I)\n",
        "    for sent in corpus:\n",
        "        #sent = nobr.sub('', sent)\n",
        "        sent = sent.replace('<br />', '')\n",
        "        sent = sent.strip().split()\n",
        "        word_list.append(sent)\n",
        "    return word_list"
      ],
      "execution_count": 0,
      "outputs": []
    },
    {
      "cell_type": "code",
      "metadata": {
        "id": "UsoO16Qv0ppI",
        "colab_type": "code",
        "colab": {}
      },
      "source": [
        "def build_vocab(word_list, vocab_size=None):\n",
        "    word_count = Counter(chain(*word_list))\n",
        "    if vocab_size is None:\n",
        "        vocab_size = len(word_count)\n",
        "    #print(vocab_size)\n",
        "    sorted_count = word_count.most_common(vocab_size)\n",
        "    word2idx = {w:i+1 for i, (w, _) in enumerate(sorted_count)}\n",
        "    word2idx['<pad>'] = 0\n",
        "    return word2idx"
      ],
      "execution_count": 0,
      "outputs": []
    },
    {
      "cell_type": "code",
      "metadata": {
        "id": "w8flTiK1M11N",
        "colab_type": "code",
        "colab": {}
      },
      "source": [
        "def words_to_int(word_list, word2idx):\n",
        "    int_list = []\n",
        "    for sent in word_list:\n",
        "        sent = [word2idx[w] for w in sent]\n",
        "        int_list.append(sent)\n",
        "    return int_list"
      ],
      "execution_count": 0,
      "outputs": []
    },
    {
      "cell_type": "code",
      "metadata": {
        "id": "cWd62PbW1v4N",
        "colab_type": "code",
        "outputId": "9a519ca5-28ea-4147-8fc3-0d96f96a318d",
        "colab": {
          "base_uri": "https://localhost:8080/",
          "height": 69
        }
      },
      "source": [
        "x_train_word = sent_to_wordlist(x_train)\n",
        "x_test_word = sent_to_wordlist(x_test)\n",
        "#all_list = x_train_word + x_test_word\n",
        "#print(len(all_list))\n",
        "word2idx = build_vocab(x_train_word + x_test_word)\n",
        "print(len(word2idx))\n",
        "\n",
        "x_train_int = words_to_int(x_train_word , word2idx)\n",
        "x_test_int = words_to_int(x_test_word , word2idx)\n",
        "print(len(x_train_int), len(x_test_int))\n",
        "\n",
        "x_train_len = [len(s) for s in x_train_int]\n",
        "x_test_len = [len(s) for s in x_test_int]\n",
        "print(len(x_train_len), len(x_test_len))"
      ],
      "execution_count": 7,
      "outputs": [
        {
          "output_type": "stream",
          "text": [
            "422522\n",
            "25000 25000\n",
            "25000 25000\n"
          ],
          "name": "stdout"
        }
      ]
    },
    {
      "cell_type": "code",
      "metadata": {
        "id": "ig2B87wAQSTX",
        "colab_type": "code",
        "outputId": "1be95f93-ccd4-4b8e-d829-1ffcc35e3f7b",
        "colab": {
          "base_uri": "https://localhost:8080/",
          "height": 282
        }
      },
      "source": [
        "#analyze & remove outliers\n",
        "sns.boxplot(x=x_train_len + x_test_len)"
      ],
      "execution_count": 8,
      "outputs": [
        {
          "output_type": "execute_result",
          "data": {
            "text/plain": [
              "<matplotlib.axes._subplots.AxesSubplot at 0x7fbbefc3f4a8>"
            ]
          },
          "metadata": {
            "tags": []
          },
          "execution_count": 8
        },
        {
          "output_type": "display_data",
          "data": {
            "image/png": "[encoded data removed]",
            "text/plain": [
              "<Figure size 432x288 with 1 Axes>"
            ]
          },
          "metadata": {
            "tags": []
          }
        }
      ]
    },
    {
      "cell_type": "code",
      "metadata": {
        "id": "AB-VvvX0Q-27",
        "colab_type": "code",
        "outputId": "4ce0ecd9-0215-4fb1-9e3b-1a6e23d89fe6",
        "colab": {
          "base_uri": "https://localhost:8080/",
          "height": 69
        }
      },
      "source": [
        "LIMIT = 500\n",
        "x_train_int = [x_train_int[i] for i, len in enumerate(x_train_len) if len<LIMIT]\n",
        "x_test_int = [x_test_int[i] for i, len in enumerate(x_test_len) if len<LIMIT]\n",
        "y_train = [y_train[i] for i, len in enumerate(x_train_len) if len<LIMIT]\n",
        "y_test = [y_test[i] for i, len in enumerate(x_test_len) if len<LIMIT]\n",
        "print(len(x_train_int), len(x_test_int))\n",
        "print(len(y_train), len(y_test))\n",
        "\n",
        "x_train_len = [len(s) for s in x_train_int]\n",
        "x_test_len = [len(s) for s in x_test_int]\n",
        "print(len(x_train_len), len(x_test_len))"
      ],
      "execution_count": 9,
      "outputs": [
        {
          "output_type": "stream",
          "text": [
            "23070 23182\n",
            "23070 23182\n",
            "23070 23182\n"
          ],
          "name": "stdout"
        }
      ]
    },
    {
      "cell_type": "code",
      "metadata": {
        "id": "noEFcFZlxOny",
        "colab_type": "code",
        "colab": {}
      },
      "source": [
        "def pad_sequences(int_list, LIMIT, pad_token=0):\n",
        "    padded_list = []\n",
        "    for sent in int_list:\n",
        "        sent = sent + [pad_token] * (LIMIT - len(sent))\n",
        "        padded_list.append(sent)\n",
        "    return padded_list"
      ],
      "execution_count": 0,
      "outputs": []
    },
    {
      "cell_type": "code",
      "metadata": {
        "id": "f6aYS_Iy6pQN",
        "colab_type": "code",
        "outputId": "c44511d2-8cba-4072-bd73-7e1d3e55b94f",
        "colab": {
          "base_uri": "https://localhost:8080/",
          "height": 34
        }
      },
      "source": [
        "x_train_padded = pad_sequences(x_train_int, LIMIT)\n",
        "x_test_padded = pad_sequences(x_test_int, LIMIT)\n",
        "print(len(x_train_padded), len(x_test_padded))\n",
        "#print(x_train_padded[1])\n",
        "#t_len = [len(s) for s in x_train_padded]\n",
        "#print(t_len[:10])\n",
        "#print(x_train_len[1])"
      ],
      "execution_count": 11,
      "outputs": [
        {
          "output_type": "stream",
          "text": [
            "23070 23182\n"
          ],
          "name": "stdout"
        }
      ]
    },
    {
      "cell_type": "code",
      "metadata": {
        "id": "WjpoQBe7t8Ah",
        "colab_type": "code",
        "outputId": "f700bc49-2ab2-4c5f-f6c2-354adfcad48b",
        "colab": {
          "base_uri": "https://localhost:8080/",
          "height": 51
        }
      },
      "source": [
        "#Sanity Check for padding\n",
        "print(len(x_train_padded[0]), len(x_train_padded[-1]))\n",
        "print(len(x_test_padded[0]), len(x_test_padded[-1]))"
      ],
      "execution_count": 12,
      "outputs": [
        {
          "output_type": "stream",
          "text": [
            "500 500\n",
            "500 500\n"
          ],
          "name": "stdout"
        }
      ]
    },
    {
      "cell_type": "code",
      "metadata": {
        "id": "JmVIZr8c7uQo",
        "colab_type": "code",
        "outputId": "8b21a4c5-effb-4307-ceb2-ca7f48134b8f",
        "colab": {
          "base_uri": "https://localhost:8080/",
          "height": 51
        }
      },
      "source": [
        "#validation split\n",
        "VAL_SPLIT_RATIO = 0.5\n",
        "split_len = int(len(x_test_padded) * VAL_SPLIT_RATIO)\n",
        "x_val, x_test = x_test_padded[:split_len:], x_test_padded[split_len:]\n",
        "print(len(x_val), len(x_test))\n",
        "\n",
        "split_len = int(len(y_test) * VAL_SPLIT_RATIO)\n",
        "y_val, y_test = y_test[:split_len], y_test[split_len:]\n",
        "print(len(y_val), len(y_test))"
      ],
      "execution_count": 13,
      "outputs": [
        {
          "output_type": "stream",
          "text": [
            "11591 11591\n",
            "11591 11591\n"
          ],
          "name": "stdout"
        }
      ]
    },
    {
      "cell_type": "code",
      "metadata": {
        "id": "VYxxSrnyEyM4",
        "colab_type": "code",
        "colab": {}
      },
      "source": [
        "#tensors & batches\n",
        "train_data = TensorDataset(torch.tensor(x_train_padded, device=DEVICE), torch.tensor(y_train, device=DEVICE))\n",
        "val_data = TensorDataset(torch.tensor(x_val, device=DEVICE), torch.tensor(y_val, device=DEVICE))\n",
        "test_data = TensorDataset(torch.tensor(x_test, device=DEVICE), torch.tensor(y_test, device=DEVICE))\n",
        "\n",
        "BATCH_SIZE = 50\n",
        "train_loader = DataLoader(train_data, batch_size=BATCH_SIZE, shuffle=True)\n",
        "val_loader = DataLoader(val_data, batch_size=BATCH_SIZE, shuffle=True)\n",
        "test_loader = DataLoader(test_data, batch_size=BATCH_SIZE, shuffle=True)"
      ],
      "execution_count": 0,
      "outputs": []
    },
    {
      "cell_type": "code",
      "metadata": {
        "id": "H4aUuFUZPnIZ",
        "colab_type": "code",
        "outputId": "95e02a1c-792f-437a-a4be-930735135234",
        "colab": {
          "base_uri": "https://localhost:8080/",
          "height": 277
        }
      },
      "source": [
        "#Sanity check for batches\n",
        "dataiter = iter(val_loader)\n",
        "sample_x, sample_y = dataiter.next()\n",
        "print('Sample input size: ', sample_x.size()) # batch_size, seq_length\n",
        "print('Sample input: \\n', sample_x)\n",
        "print()\n",
        "print('Sample label size: ', sample_y.size()) # batch_size\n",
        "print('Sample label: \\n', sample_y)"
      ],
      "execution_count": 15,
      "outputs": [
        {
          "output_type": "stream",
          "text": [
            "Sample input size:  torch.Size([50, 500])\n",
            "Sample input: \n",
            " tensor([[   8,  539,   76,  ...,    0,    0,    0],\n",
            "        [   2,  521,    4,  ...,    0,    0,    0],\n",
            "        [   8, 1010,   10,  ...,    0,    0,    0],\n",
            "        ...,\n",
            "        [  47,    8,  105,  ...,    0,    0,    0],\n",
            "        [8077,    2,  481,  ...,    0,    0,    0],\n",
            "        [  43,   22,   35,  ...,    0,    0,    0]], device='cuda:0')\n",
            "\n",
            "Sample label size:  torch.Size([50])\n",
            "Sample label: \n",
            " tensor([1, 1, 1, 1, 1, 1, 1, 1, 1, 1, 1, 1, 1, 1, 1, 1, 1, 1, 1, 1, 1, 1, 1, 1,\n",
            "        1, 1, 1, 1, 1, 1, 1, 1, 1, 1, 1, 1, 1, 1, 1, 1, 1, 1, 1, 1, 1, 1, 1, 1,\n",
            "        1, 1], device='cuda:0')\n"
          ],
          "name": "stdout"
        }
      ]
    },
    {
      "cell_type": "code",
      "metadata": {
        "id": "P0JwPZZwP2rX",
        "colab_type": "code",
        "colab": {}
      },
      "source": [
        "class RNN(nn.Module):\n",
        "    def __init__(self, vocab_size, hidden_size, num_outputs, embedding_dim, seq_len, bidirectional=False, num_layers=1, dropout=0.3):\n",
        "        super(RNN, self).__init__()\n",
        "        if bidirectional:\n",
        "            self.dirn = 2\n",
        "        else:\n",
        "            self.dirn = 1\n",
        "\n",
        "        self.embedding = nn.Embedding(vocab_size, embedding_dim)\n",
        "        self.LSTM = nn.LSTM(embedding_dim, hidden_size, num_layers=num_layers, bidirectional=bidirectional)\n",
        "        self.dropout = nn.Dropout(p=dropout)\n",
        "        self.fc = nn.Linear(hidden_size * self.dirn * seq_len, num_outputs)\n",
        "        self.sigmoid = nn.Sigmoid()\n",
        "\n",
        "    def forward(self, input:torch.Tensor)->torch.Tensor:\n",
        "        #input = batch_size, seq_len\n",
        "        batch_size = input.size()[0]\n",
        "        sent_len = [len(s) for s in input]\n",
        "\n",
        "        #print(input.size())\n",
        "        embed_inp = self.embedding(input)   #batch_size, seq_len, embedding_dim\n",
        "        #print(embed_inp.size())\n",
        "        embed_inp = embed_inp.permute(1,0,2)    #seq_len, batch_size, embedding_dim\n",
        "        #print(embed_inp.size())\n",
        "        #figure out packing with dataloader- sending seq_lens of batch without another computation here\n",
        "        packed_inp = pack_padded_sequence(embed_inp, sent_len, enforce_sorted=False)\n",
        "        rnn , (hidden, cell) = self.LSTM(packed_inp) #rnn - seq_len, batch_size, num_dir * hidden_size\n",
        "        rnn, _  = pad_packed_sequence(rnn)\n",
        "        #print(rnn.size())\n",
        "        rnn = rnn.view(batch_size, -1)  #batch_size, num_dir*hidden_size*seq_len\n",
        "        #print(rnn.size())\n",
        "\n",
        "        drop = self.dropout(rnn)\n",
        "        fc = self.fc(drop)  #batch_size, num_outputs\n",
        "        #print(fc.size())\n",
        "\n",
        "        #drop = self.dropout(torch.cat((hidden[-2,:,:], hidden[-1,:,:]), dim = 1))\n",
        "        #fc = self.fc(drop)\n",
        "\n",
        "        output = self.sigmoid(fc) #batch_size\n",
        "        return output.squeeze()"
      ],
      "execution_count": 0,
      "outputs": []
    },
    {
      "cell_type": "code",
      "metadata": {
        "id": "i7Jsp9zn0tw7",
        "colab_type": "code",
        "colab": {
          "base_uri": "https://localhost:8080/",
          "height": 34
        },
        "outputId": "b1f8bb3a-1ed8-45e8-afd4-226fcfd778c1"
      },
      "source": [
        "#CONSTANTS & VARIABLES\n",
        "VOCAB_SIZE = len(word2idx)\n",
        "print(VOCAB_SIZE)\n",
        "HIDDEN_SIZE = 256\n",
        "NUM_OUTPUTS = 1\n",
        "EMBEDDING_DIM = 400"
      ],
      "execution_count": 17,
      "outputs": [
        {
          "output_type": "stream",
          "text": [
            "422522\n"
          ],
          "name": "stdout"
        }
      ]
    },
    {
      "cell_type": "code",
      "metadata": {
        "id": "BO7xVnSB1i76",
        "colab_type": "code",
        "outputId": "c49f581e-7b18-407f-e139-c80089e59ab0",
        "colab": {
          "base_uri": "https://localhost:8080/",
          "height": 138
        }
      },
      "source": [
        "model = RNN(VOCAB_SIZE, HIDDEN_SIZE, NUM_OUTPUTS, EMBEDDING_DIM, 500, bidirectional=True)\n",
        "print(model)\n",
        "model =  model.to(DEVICE)\n",
        "optimizer = torch.optim.Adam(model.parameters())\n",
        "criterion = nn.BCELoss()\n",
        "criterion = criterion.to(DEVICE)"
      ],
      "execution_count": 18,
      "outputs": [
        {
          "output_type": "stream",
          "text": [
            "RNN(\n",
            "  (embedding): Embedding(422522, 400)\n",
            "  (LSTM): LSTM(400, 256, bidirectional=True)\n",
            "  (dropout): Dropout(p=0.3, inplace=False)\n",
            "  (fc): Linear(in_features=256000, out_features=1, bias=True)\n",
            "  (sigmoid): Sigmoid()\n",
            ")\n"
          ],
          "name": "stdout"
        }
      ]
    },
    {
      "cell_type": "code",
      "metadata": {
        "id": "hpWy1bh0GkO7",
        "colab_type": "code",
        "colab": {}
      },
      "source": [
        "def accuracy(y_pred, y):\n",
        "    rounded_pred = torch.round(y_pred)\n",
        "    correct = (rounded_pred == y).float()   #float for division\n",
        "    return correct.sum()/len(correct)"
      ],
      "execution_count": 0,
      "outputs": []
    },
    {
      "cell_type": "code",
      "metadata": {
        "id": "5cIgdQOFGrKy",
        "colab_type": "code",
        "colab": {}
      },
      "source": [
        "def train(model, optimizer, criterion, train_loader, DEVICE):\n",
        "    epoch_loss = 0\n",
        "    epoch_acc = 0\n",
        "    size = len(train_loader)\n",
        "    train_iter = iter(train_loader)\n",
        "    model.train()\n",
        "\n",
        "    for x_batch, y_batch in train_iter:\n",
        "        optimizer.zero_grad()\n",
        "        preds = model(x_batch)\n",
        "        y_batch = y_batch.type_as(preds)\n",
        "        loss = criterion(preds, y_batch)\n",
        "        acc = accuracy(preds, y_batch)\n",
        "        loss.backward()\n",
        "        optimizer.step()\n",
        "        epoch_loss += loss.item()\n",
        "        epoch_acc += loss.item()\n",
        "\n",
        "    return epoch_loss/size, epoch_acc/size"
      ],
      "execution_count": 0,
      "outputs": []
    },
    {
      "cell_type": "code",
      "metadata": {
        "id": "qqeTBrCtGzPg",
        "colab_type": "code",
        "colab": {}
      },
      "source": [
        "def evaluate(model, criterion, val_loader, DEVICE):\n",
        "    epoch_loss = 0\n",
        "    epoch_acc = 0\n",
        "    size = len(train_loader)\n",
        "    val_iter = iter(val_loader)\n",
        "    model.eval()\n",
        "\n",
        "    with torch.no_grad():\n",
        "        for x_batch, y_batch in val_iter:\n",
        "            preds = model(x_batch)\n",
        "            y_batch = y_batch.type_as(preds)\n",
        "            loss = criterion(preds, y_batch)\n",
        "            acc = accuracy(preds, y_batch)\n",
        "            epoch_loss += loss.item()\n",
        "            epoch_acc += loss.item()\n",
        "\n",
        "    return epoch_loss/size, epoch_acc/size"
      ],
      "execution_count": 0,
      "outputs": []
    },
    {
      "cell_type": "code",
      "metadata": {
        "id": "FXXxmBuGG4wW",
        "colab_type": "code",
        "outputId": "9bb7d5d1-3cec-441f-e264-210ecbdf7a4b",
        "colab": {
          "base_uri": "https://localhost:8080/",
          "height": 588
        }
      },
      "source": [
        "NUM_EPOCHS = 50\n",
        "valid_loss = float('inf')\n",
        "for epoch in range(NUM_EPOCHS):\n",
        "    start = time.time()\n",
        "    train_loss, train_acc = train(model, optimizer, criterion, train_loader, DEVICE)\n",
        "    eval_loss, eval_acc = evaluate(model, criterion, val_loader, DEVICE)\n",
        "    end = time.time()\n",
        "\n",
        "    if eval_loss < valid_loss:\n",
        "        valid_loss = eval_loss\n",
        "        torch.save(model.state_dict(), 'imdb_best')\n",
        "\n",
        "    print(\"EPOCH: \", epoch)\n",
        "    print(\"TIME: \", end-start)\n",
        "    print(f'\\tTrain Loss: {train_loss:.3f} | Train Acc: {train_acc*100:.2f}%')\n",
        "    print(f'\\t Val. Loss: {eval_loss:.3f} |  Val. Acc: {eval_acc*100:.2f}%')"
      ],
      "execution_count": 23,
      "outputs": [
        {
          "output_type": "stream",
          "text": [
            "EPOCH:  0\n",
            "TIME:  60.084068059921265\n",
            "\tTrain Loss: 0.839 | Train Acc: 83.88%\n",
            "\t Val. Loss: 0.307 |  Val. Acc: 30.73%\n",
            "EPOCH:  1\n",
            "TIME:  60.522692918777466\n",
            "\tTrain Loss: 0.779 | Train Acc: 77.93%\n",
            "\t Val. Loss: 0.354 |  Val. Acc: 35.38%\n",
            "EPOCH:  2\n",
            "TIME:  60.211647748947144\n",
            "\tTrain Loss: 0.777 | Train Acc: 77.66%\n",
            "\t Val. Loss: 0.356 |  Val. Acc: 35.64%\n"
          ],
          "name": "stdout"
        },
        {
          "output_type": "error",
          "ename": "KeyboardInterrupt",
          "evalue": "ignored",
          "traceback": [
            "\u001b[0;31m---------------------------------------------------------------------------\u001b[0m",
            "\u001b[0;31mKeyboardInterrupt\u001b[0m                         Traceback (most recent call last)",
            "\u001b[0;32m<ipython-input-23-8e65fcb14b51>\u001b[0m in \u001b[0;36m<module>\u001b[0;34m()\u001b[0m\n\u001b[1;32m      3\u001b[0m \u001b[0;32mfor\u001b[0m \u001b[0mepoch\u001b[0m \u001b[0;32min\u001b[0m \u001b[0mrange\u001b[0m\u001b[0;34m(\u001b[0m\u001b[0mNUM_EPOCHS\u001b[0m\u001b[0;34m)\u001b[0m\u001b[0;34m:\u001b[0m\u001b[0;34m\u001b[0m\u001b[0;34m\u001b[0m\u001b[0m\n\u001b[1;32m      4\u001b[0m     \u001b[0mstart\u001b[0m \u001b[0;34m=\u001b[0m \u001b[0mtime\u001b[0m\u001b[0;34m.\u001b[0m\u001b[0mtime\u001b[0m\u001b[0;34m(\u001b[0m\u001b[0;34m)\u001b[0m\u001b[0;34m\u001b[0m\u001b[0;34m\u001b[0m\u001b[0m\n\u001b[0;32m----> 5\u001b[0;31m     \u001b[0mtrain_loss\u001b[0m\u001b[0;34m,\u001b[0m \u001b[0mtrain_acc\u001b[0m \u001b[0;34m=\u001b[0m \u001b[0mtrain\u001b[0m\u001b[0;34m(\u001b[0m\u001b[0mmodel\u001b[0m\u001b[0;34m,\u001b[0m \u001b[0moptimizer\u001b[0m\u001b[0;34m,\u001b[0m \u001b[0mcriterion\u001b[0m\u001b[0;34m,\u001b[0m \u001b[0mtrain_loader\u001b[0m\u001b[0;34m,\u001b[0m \u001b[0mDEVICE\u001b[0m\u001b[0;34m)\u001b[0m\u001b[0;34m\u001b[0m\u001b[0;34m\u001b[0m\u001b[0m\n\u001b[0m\u001b[1;32m      6\u001b[0m     \u001b[0meval_loss\u001b[0m\u001b[0;34m,\u001b[0m \u001b[0meval_acc\u001b[0m \u001b[0;34m=\u001b[0m \u001b[0mevaluate\u001b[0m\u001b[0;34m(\u001b[0m\u001b[0mmodel\u001b[0m\u001b[0;34m,\u001b[0m \u001b[0mcriterion\u001b[0m\u001b[0;34m,\u001b[0m \u001b[0mval_loader\u001b[0m\u001b[0;34m,\u001b[0m \u001b[0mDEVICE\u001b[0m\u001b[0;34m)\u001b[0m\u001b[0;34m\u001b[0m\u001b[0;34m\u001b[0m\u001b[0m\n\u001b[1;32m      7\u001b[0m     \u001b[0mend\u001b[0m \u001b[0;34m=\u001b[0m \u001b[0mtime\u001b[0m\u001b[0;34m.\u001b[0m\u001b[0mtime\u001b[0m\u001b[0;34m(\u001b[0m\u001b[0;34m)\u001b[0m\u001b[0;34m\u001b[0m\u001b[0;34m\u001b[0m\u001b[0m\n",
            "\u001b[0;32m<ipython-input-20-84bd0a09c149>\u001b[0m in \u001b[0;36mtrain\u001b[0;34m(model, optimizer, criterion, train_loader, DEVICE)\u001b[0m\n\u001b[1;32m     12\u001b[0m         \u001b[0mloss\u001b[0m \u001b[0;34m=\u001b[0m \u001b[0mcriterion\u001b[0m\u001b[0;34m(\u001b[0m\u001b[0mpreds\u001b[0m\u001b[0;34m,\u001b[0m \u001b[0my_batch\u001b[0m\u001b[0;34m)\u001b[0m\u001b[0;34m\u001b[0m\u001b[0;34m\u001b[0m\u001b[0m\n\u001b[1;32m     13\u001b[0m         \u001b[0macc\u001b[0m \u001b[0;34m=\u001b[0m \u001b[0maccuracy\u001b[0m\u001b[0;34m(\u001b[0m\u001b[0mpreds\u001b[0m\u001b[0;34m,\u001b[0m \u001b[0my_batch\u001b[0m\u001b[0;34m)\u001b[0m\u001b[0;34m\u001b[0m\u001b[0;34m\u001b[0m\u001b[0m\n\u001b[0;32m---> 14\u001b[0;31m         \u001b[0mloss\u001b[0m\u001b[0;34m.\u001b[0m\u001b[0mbackward\u001b[0m\u001b[0;34m(\u001b[0m\u001b[0;34m)\u001b[0m\u001b[0;34m\u001b[0m\u001b[0;34m\u001b[0m\u001b[0m\n\u001b[0m\u001b[1;32m     15\u001b[0m         \u001b[0moptimizer\u001b[0m\u001b[0;34m.\u001b[0m\u001b[0mstep\u001b[0m\u001b[0;34m(\u001b[0m\u001b[0;34m)\u001b[0m\u001b[0;34m\u001b[0m\u001b[0;34m\u001b[0m\u001b[0m\n\u001b[1;32m     16\u001b[0m         \u001b[0mepoch_loss\u001b[0m \u001b[0;34m+=\u001b[0m \u001b[0mloss\u001b[0m\u001b[0;34m.\u001b[0m\u001b[0mitem\u001b[0m\u001b[0;34m(\u001b[0m\u001b[0;34m)\u001b[0m\u001b[0;34m\u001b[0m\u001b[0;34m\u001b[0m\u001b[0m\n",
            "\u001b[0;32m/usr/local/lib/python3.6/dist-packages/torch/tensor.py\u001b[0m in \u001b[0;36mbackward\u001b[0;34m(self, gradient, retain_graph, create_graph)\u001b[0m\n\u001b[1;32m    164\u001b[0m                 \u001b[0mproducts\u001b[0m\u001b[0;34m.\u001b[0m \u001b[0mDefaults\u001b[0m \u001b[0mto\u001b[0m\u001b[0;31m \u001b[0m\u001b[0;31m`\u001b[0m\u001b[0;31m`\u001b[0m\u001b[0;32mFalse\u001b[0m\u001b[0;31m`\u001b[0m\u001b[0;31m`\u001b[0m\u001b[0;34m.\u001b[0m\u001b[0;34m\u001b[0m\u001b[0;34m\u001b[0m\u001b[0m\n\u001b[1;32m    165\u001b[0m         \"\"\"\n\u001b[0;32m--> 166\u001b[0;31m         \u001b[0mtorch\u001b[0m\u001b[0;34m.\u001b[0m\u001b[0mautograd\u001b[0m\u001b[0;34m.\u001b[0m\u001b[0mbackward\u001b[0m\u001b[0;34m(\u001b[0m\u001b[0mself\u001b[0m\u001b[0;34m,\u001b[0m \u001b[0mgradient\u001b[0m\u001b[0;34m,\u001b[0m \u001b[0mretain_graph\u001b[0m\u001b[0;34m,\u001b[0m \u001b[0mcreate_graph\u001b[0m\u001b[0;34m)\u001b[0m\u001b[0;34m\u001b[0m\u001b[0;34m\u001b[0m\u001b[0m\n\u001b[0m\u001b[1;32m    167\u001b[0m \u001b[0;34m\u001b[0m\u001b[0m\n\u001b[1;32m    168\u001b[0m     \u001b[0;32mdef\u001b[0m \u001b[0mregister_hook\u001b[0m\u001b[0;34m(\u001b[0m\u001b[0mself\u001b[0m\u001b[0;34m,\u001b[0m \u001b[0mhook\u001b[0m\u001b[0;34m)\u001b[0m\u001b[0;34m:\u001b[0m\u001b[0;34m\u001b[0m\u001b[0;34m\u001b[0m\u001b[0m\n",
            "\u001b[0;32m/usr/local/lib/python3.6/dist-packages/torch/autograd/__init__.py\u001b[0m in \u001b[0;36mbackward\u001b[0;34m(tensors, grad_tensors, retain_graph, create_graph, grad_variables)\u001b[0m\n\u001b[1;32m     97\u001b[0m     Variable._execution_engine.run_backward(\n\u001b[1;32m     98\u001b[0m         \u001b[0mtensors\u001b[0m\u001b[0;34m,\u001b[0m \u001b[0mgrad_tensors\u001b[0m\u001b[0;34m,\u001b[0m \u001b[0mretain_graph\u001b[0m\u001b[0;34m,\u001b[0m \u001b[0mcreate_graph\u001b[0m\u001b[0;34m,\u001b[0m\u001b[0;34m\u001b[0m\u001b[0;34m\u001b[0m\u001b[0m\n\u001b[0;32m---> 99\u001b[0;31m         allow_unreachable=True)  # allow_unreachable flag\n\u001b[0m\u001b[1;32m    100\u001b[0m \u001b[0;34m\u001b[0m\u001b[0m\n\u001b[1;32m    101\u001b[0m \u001b[0;34m\u001b[0m\u001b[0m\n",
            "\u001b[0;31mKeyboardInterrupt\u001b[0m: "
          ]
        }
      ]
    },
    {
      "cell_type": "code",
      "metadata": {
        "id": "FuzZxRzQG84f",
        "colab_type": "code",
        "outputId": "0c7791d1-005c-468b-c435-ee5d05b1b55b",
        "colab": {
          "base_uri": "https://localhost:8080/",
          "height": 34
        }
      },
      "source": [
        "model.load_state_dict(torch.load('imdb_best'))\n",
        "test_loss, test_acc = evaluate(model, criterion, test_loader, DEVICE)\n",
        "print(f'\\t Test Loss: {test_loss:.3f} |  Test Acc: {test_acc*100:.2f}%')"
      ],
      "execution_count": 24,
      "outputs": [
        {
          "output_type": "stream",
          "text": [
            "\t Test Loss: 0.464 |  Test Acc: 46.43%\n"
          ],
          "name": "stdout"
        }
      ]
    }
  ]
}